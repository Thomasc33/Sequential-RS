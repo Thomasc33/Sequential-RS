{
 "cells": [
  {
   "attachments": {},
   "cell_type": "markdown",
   "metadata": {},
   "source": [
    "# Module Imports"
   ]
  },
  {
   "cell_type": "code",
   "execution_count": 2,
   "metadata": {},
   "outputs": [],
   "source": [
    "import numpy as np\n",
    "import pandas as pd\n",
    "import tensorflow as tf\n",
    "from tensorflow.keras.layers import Input, Embedding, Conv1D, Dropout, Dense, GlobalAveragePooling1D\n",
    "import matplotlib.pyplot as plt\n",
    "from tqdm import tqdm\n",
    "import random\n",
    "\n",
    "random.seed(42)\n",
    "np.random.seed(42)"
   ]
  },
  {
   "cell_type": "markdown",
   "metadata": {},
   "source": [
    "# Load and Process Data"
   ]
  },
  {
   "cell_type": "code",
   "execution_count": 3,
   "metadata": {},
   "outputs": [],
   "source": [
    "# Load MovieLens dataset\n",
    "data_path = 'ml-100k/u.data'\n",
    "column_names = ['user_id', 'item_id', 'rating', 'timestamp']\n",
    "data = pd.read_csv(data_path, sep='\\t', names=column_names)"
   ]
  },
  {
   "cell_type": "code",
   "execution_count": 18,
   "metadata": {},
   "outputs": [],
   "source": [
    "movies = pd.read_csv('ml-100k/movies.csv', sep=',')"
   ]
  },
  {
   "cell_type": "code",
   "execution_count": 30,
   "metadata": {},
   "outputs": [],
   "source": [
    "# Preprocess the dataset\n",
    "user_ids = data['user_id'].unique()\n",
    "item_ids = data['item_id'].unique()\n",
    "uid2idx = {uid: idx for idx, uid in enumerate(user_ids)}\n",
    "iid2idx = {iid: idx for idx, iid in enumerate(item_ids)}\n",
    "idx2uid = {idx: uid for uid, idx in uid2idx.items()}\n",
    "idx2iid = {idx: iid for iid, idx in iid2idx.items()}\n",
    "data['user_id'] = data['user_id'].map(uid2idx)\n",
    "data['item_id'] = data['item_id'].map(iid2idx)\n",
    "movies['item_id'] = movies['movieId'].map(iid2idx)"
   ]
  },
  {
   "cell_type": "code",
   "execution_count": 49,
   "metadata": {},
   "outputs": [],
   "source": [
    "# Sort data by timestamp\n",
    "train_data = data.sort_values(by='timestamp')"
   ]
  },
  {
   "cell_type": "code",
   "execution_count": 7,
   "metadata": {},
   "outputs": [],
   "source": [
    "def generate_sequences_and_labels(data, user_ids, item_ids, seq_length, num_items):\n",
    "    sequences, labels = [], []\n",
    "\n",
    "    for user_id in user_ids:\n",
    "        user_data = data[data['user_id'] == user_id]\n",
    "        user_items = user_data['item_id'].values.tolist()\n",
    "        \n",
    "        # Create sequences of fixed length for each user\n",
    "        for i in range(len(user_items) - seq_length):\n",
    "            sequences.append(user_items[i:i + seq_length])\n",
    "            \n",
    "            label = np.zeros(num_items)\n",
    "            if user_items[i + seq_length] in user_items[i:i + seq_length]:\n",
    "                label[user_items[i + seq_length]] = 1  # Positive feedback\n",
    "            else:\n",
    "                label[user_items[i + seq_length]] = 0  # Negative feedback\n",
    "            labels.append(label)\n",
    "\n",
    "    sequences = np.array(sequences)\n",
    "    labels = np.array(labels)\n",
    "    return sequences, labels"
   ]
  },
  {
   "cell_type": "code",
   "execution_count": 8,
   "metadata": {},
   "outputs": [],
   "source": [
    "seq_length = 5  # Adjust this value based on your requirements\n",
    "train_sequences, train_labels = generate_sequences_and_labels(train_data, user_ids, item_ids, seq_length, len(item_ids))"
   ]
  },
  {
   "cell_type": "markdown",
   "metadata": {},
   "source": [
    "# Visualize Data"
   ]
  },
  {
   "cell_type": "code",
   "execution_count": 9,
   "metadata": {},
   "outputs": [
    {
     "data": {
      "text/html": [
       "<div>\n",
       "<style scoped>\n",
       "    .dataframe tbody tr th:only-of-type {\n",
       "        vertical-align: middle;\n",
       "    }\n",
       "\n",
       "    .dataframe tbody tr th {\n",
       "        vertical-align: top;\n",
       "    }\n",
       "\n",
       "    .dataframe thead th {\n",
       "        text-align: right;\n",
       "    }\n",
       "</style>\n",
       "<table border=\"1\" class=\"dataframe\">\n",
       "  <thead>\n",
       "    <tr style=\"text-align: right;\">\n",
       "      <th></th>\n",
       "      <th>user_id</th>\n",
       "      <th>item_id</th>\n",
       "      <th>rating</th>\n",
       "      <th>timestamp</th>\n",
       "    </tr>\n",
       "  </thead>\n",
       "  <tbody>\n",
       "    <tr>\n",
       "      <th>0</th>\n",
       "      <td>0</td>\n",
       "      <td>0</td>\n",
       "      <td>3</td>\n",
       "      <td>881250949</td>\n",
       "    </tr>\n",
       "    <tr>\n",
       "      <th>1</th>\n",
       "      <td>1</td>\n",
       "      <td>1</td>\n",
       "      <td>3</td>\n",
       "      <td>891717742</td>\n",
       "    </tr>\n",
       "    <tr>\n",
       "      <th>2</th>\n",
       "      <td>2</td>\n",
       "      <td>2</td>\n",
       "      <td>1</td>\n",
       "      <td>878887116</td>\n",
       "    </tr>\n",
       "    <tr>\n",
       "      <th>3</th>\n",
       "      <td>3</td>\n",
       "      <td>3</td>\n",
       "      <td>2</td>\n",
       "      <td>880606923</td>\n",
       "    </tr>\n",
       "    <tr>\n",
       "      <th>4</th>\n",
       "      <td>4</td>\n",
       "      <td>4</td>\n",
       "      <td>1</td>\n",
       "      <td>886397596</td>\n",
       "    </tr>\n",
       "  </tbody>\n",
       "</table>\n",
       "</div>"
      ],
      "text/plain": [
       "   user_id  item_id  rating  timestamp\n",
       "0        0        0       3  881250949\n",
       "1        1        1       3  891717742\n",
       "2        2        2       1  878887116\n",
       "3        3        3       2  880606923\n",
       "4        4        4       1  886397596"
      ]
     },
     "execution_count": 9,
     "metadata": {},
     "output_type": "execute_result"
    }
   ],
   "source": [
    "data.head()"
   ]
  },
  {
   "cell_type": "code",
   "execution_count": 10,
   "metadata": {},
   "outputs": [
    {
     "name": "stdout",
     "output_type": "stream",
     "text": [
      "Number of users:  943\n",
      "Number of items:  1682\n",
      "Number of interactions:  100000\n",
      "Average rating:  3.52986\n",
      "Start Date:  1997-09-20 03:05:10\n",
      "End Date:  1998-04-22 23:10:38\n"
     ]
    }
   ],
   "source": [
    "print('Number of users: ', len(user_ids))\n",
    "print('Number of items: ', len(item_ids))\n",
    "print('Number of interactions: ', len(data))\n",
    "print('Average rating: ', data['rating'].mean())\n",
    "print('Start Date: ', pd.to_datetime(data['timestamp'].min(), unit='s'))\n",
    "print('End Date: ', pd.to_datetime(data['timestamp'].max(), unit='s'))"
   ]
  },
  {
   "attachments": {},
   "cell_type": "markdown",
   "metadata": {},
   "source": [
    "# NextItNet Model"
   ]
  },
  {
   "cell_type": "code",
   "execution_count": 11,
   "metadata": {},
   "outputs": [],
   "source": [
    "def create_nextitnet_model(num_items, embedding_dim, num_layers, kernel_size, dropout_rate):\n",
    "    input_layer = Input(shape=(None,))\n",
    "    x = Embedding(num_items, embedding_dim)(input_layer)\n",
    "    \n",
    "    for _ in range(num_layers):\n",
    "        x = Conv1D(embedding_dim, kernel_size, padding='causal', activation='relu')(x)\n",
    "        x = Dropout(dropout_rate)(x, training=True)  # Enable dropout during inference for uncertainty estimation\n",
    "\n",
    "    x = GlobalAveragePooling1D()(x)\n",
    "    output_layer = Dense(num_items, activation='sigmoid')(x)\n",
    "    \n",
    "    model = tf.keras.Model(inputs=input_layer, outputs=output_layer)\n",
    "    return model"
   ]
  },
  {
   "cell_type": "code",
   "execution_count": 12,
   "metadata": {},
   "outputs": [],
   "source": [
    "num_items = len(item_ids)\n",
    "embedding_dim = 64\n",
    "num_layers = 3\n",
    "kernel_size = 3\n",
    "dropout_rate = 0.5\n",
    "\n",
    "nextitnet = create_nextitnet_model(num_items, embedding_dim, num_layers, kernel_size, dropout_rate)\n",
    "nextitnet.compile(optimizer='adam', loss='binary_crossentropy')"
   ]
  },
  {
   "cell_type": "code",
   "execution_count": 13,
   "metadata": {},
   "outputs": [
    {
     "name": "stdout",
     "output_type": "stream",
     "text": [
      "Epoch 1/10\n",
      "471/471 [==============================] - 27s 8ms/step - loss: 0.0405 - val_loss: 6.4814e-07\n",
      "Epoch 2/10\n",
      "471/471 [==============================] - 3s 7ms/step - loss: 3.8388e-07 - val_loss: 4.7455e-07\n",
      "Epoch 3/10\n",
      "471/471 [==============================] - 3s 6ms/step - loss: 2.9732e-07 - val_loss: 4.3149e-07\n",
      "Epoch 4/10\n",
      "471/471 [==============================] - 3s 6ms/step - loss: 2.1637e-07 - val_loss: 3.5134e-07\n",
      "Epoch 5/10\n",
      "471/471 [==============================] - 3s 6ms/step - loss: 1.7083e-07 - val_loss: 3.5041e-07\n",
      "Epoch 6/10\n",
      "471/471 [==============================] - 3s 7ms/step - loss: 1.3873e-07 - val_loss: 1.9137e-07\n",
      "Epoch 7/10\n",
      "471/471 [==============================] - 3s 6ms/step - loss: 1.1220e-07 - val_loss: 2.0596e-07\n",
      "Epoch 8/10\n",
      "471/471 [==============================] - 3s 7ms/step - loss: 9.1439e-08 - val_loss: 1.8184e-07\n",
      "Epoch 9/10\n",
      "471/471 [==============================] - 3s 7ms/step - loss: 7.3155e-08 - val_loss: 1.6583e-07\n",
      "Epoch 10/10\n",
      "471/471 [==============================] - 3s 6ms/step - loss: 6.0895e-08 - val_loss: 9.3121e-08\n"
     ]
    }
   ],
   "source": [
    "history = nextitnet.fit(train_sequences, train_labels, epochs=10, batch_size=128, validation_split=0.2)"
   ]
  },
  {
   "attachments": {},
   "cell_type": "markdown",
   "metadata": {},
   "source": [
    "# Uncertainty Score"
   ]
  },
  {
   "cell_type": "code",
   "execution_count": 14,
   "metadata": {},
   "outputs": [],
   "source": [
    "def estimate_uncertainty(model, user_sequence, num_samples=100):\n",
    "    user_sequence = np.expand_dims(user_sequence, axis=0)\n",
    "    predictions = np.stack([model.predict(user_sequence) for _ in range(num_samples)], axis=-1)\n",
    "    means = np.mean(predictions, axis=-1)\n",
    "    variances = np.var(predictions, axis=-1)\n",
    "    return means, variances\n",
    "\n",
    "def get_movie_titles(recommendations, movies_df):\n",
    "    movie_titles = []\n",
    "    for index in recommendations:\n",
    "        movie_title = movies_df.loc[index, 'title']\n",
    "        movie_titles.append(movie_title)\n",
    "    return movie_titles"
   ]
  },
  {
   "cell_type": "code",
   "execution_count": 47,
   "metadata": {},
   "outputs": [
    {
     "name": "stdout",
     "output_type": "stream",
     "text": [
      "1/1 [==============================] - 0s 18ms/step\n",
      "1/1 [==============================] - 0s 19ms/step\n",
      "1/1 [==============================] - 0s 17ms/step\n",
      "1/1 [==============================] - 0s 17ms/step\n",
      "1/1 [==============================] - 0s 17ms/step\n",
      "1/1 [==============================] - 0s 17ms/step\n",
      "1/1 [==============================] - 0s 17ms/step\n",
      "1/1 [==============================] - 0s 17ms/step\n",
      "1/1 [==============================] - 0s 17ms/step\n",
      "1/1 [==============================] - 0s 17ms/step\n",
      "1/1 [==============================] - 0s 16ms/step\n",
      "1/1 [==============================] - 0s 17ms/step\n",
      "1/1 [==============================] - 0s 19ms/step\n",
      "1/1 [==============================] - 0s 19ms/step\n",
      "1/1 [==============================] - 0s 21ms/step\n",
      "1/1 [==============================] - 0s 21ms/step\n",
      "1/1 [==============================] - 0s 21ms/step\n",
      "1/1 [==============================] - 0s 20ms/step\n",
      "1/1 [==============================] - 0s 21ms/step\n",
      "1/1 [==============================] - 0s 17ms/step\n",
      "1/1 [==============================] - 0s 20ms/step\n",
      "1/1 [==============================] - 0s 20ms/step\n",
      "1/1 [==============================] - 0s 17ms/step\n",
      "1/1 [==============================] - 0s 18ms/step\n",
      "1/1 [==============================] - 0s 16ms/step\n",
      "1/1 [==============================] - 0s 17ms/step\n",
      "1/1 [==============================] - 0s 17ms/step\n",
      "1/1 [==============================] - 0s 17ms/step\n",
      "1/1 [==============================] - 0s 18ms/step\n",
      "1/1 [==============================] - 0s 18ms/step\n",
      "1/1 [==============================] - 0s 17ms/step\n",
      "1/1 [==============================] - 0s 24ms/step\n",
      "1/1 [==============================] - 0s 19ms/step\n",
      "1/1 [==============================] - 0s 18ms/step\n",
      "1/1 [==============================] - 0s 17ms/step\n",
      "1/1 [==============================] - 0s 19ms/step\n",
      "1/1 [==============================] - 0s 18ms/step\n",
      "1/1 [==============================] - 0s 18ms/step\n",
      "1/1 [==============================] - 0s 17ms/step\n",
      "1/1 [==============================] - 0s 19ms/step\n",
      "1/1 [==============================] - 0s 18ms/step\n",
      "1/1 [==============================] - 0s 17ms/step\n",
      "1/1 [==============================] - 0s 18ms/step\n",
      "1/1 [==============================] - 0s 19ms/step\n",
      "1/1 [==============================] - 0s 24ms/step\n",
      "1/1 [==============================] - 0s 17ms/step\n",
      "1/1 [==============================] - 0s 24ms/step\n",
      "1/1 [==============================] - 0s 18ms/step\n",
      "1/1 [==============================] - 0s 18ms/step\n",
      "1/1 [==============================] - 0s 18ms/step\n",
      "1/1 [==============================] - 0s 19ms/step\n",
      "1/1 [==============================] - 0s 18ms/step\n",
      "1/1 [==============================] - 0s 19ms/step\n",
      "1/1 [==============================] - 0s 19ms/step\n",
      "1/1 [==============================] - 0s 17ms/step\n",
      "1/1 [==============================] - 0s 19ms/step\n",
      "1/1 [==============================] - 0s 17ms/step\n",
      "1/1 [==============================] - 0s 19ms/step\n",
      "1/1 [==============================] - 0s 18ms/step\n",
      "1/1 [==============================] - 0s 18ms/step\n",
      "1/1 [==============================] - 0s 17ms/step\n",
      "1/1 [==============================] - 0s 22ms/step\n",
      "1/1 [==============================] - 0s 17ms/step\n",
      "1/1 [==============================] - 0s 20ms/step\n",
      "1/1 [==============================] - 0s 18ms/step\n",
      "1/1 [==============================] - 0s 19ms/step\n",
      "1/1 [==============================] - 0s 17ms/step\n",
      "1/1 [==============================] - 0s 17ms/step\n",
      "1/1 [==============================] - 0s 23ms/step\n",
      "1/1 [==============================] - 0s 18ms/step\n",
      "1/1 [==============================] - 0s 17ms/step\n",
      "1/1 [==============================] - 0s 18ms/step\n",
      "1/1 [==============================] - 0s 16ms/step\n",
      "1/1 [==============================] - 0s 16ms/step\n",
      "1/1 [==============================] - 0s 18ms/step\n",
      "1/1 [==============================] - 0s 18ms/step\n",
      "1/1 [==============================] - 0s 17ms/step\n",
      "1/1 [==============================] - 0s 18ms/step\n",
      "1/1 [==============================] - 0s 18ms/step\n",
      "1/1 [==============================] - 0s 17ms/step\n",
      "1/1 [==============================] - 0s 18ms/step\n",
      "1/1 [==============================] - 0s 16ms/step\n",
      "1/1 [==============================] - 0s 19ms/step\n",
      "1/1 [==============================] - 0s 23ms/step\n",
      "1/1 [==============================] - 0s 19ms/step\n",
      "1/1 [==============================] - 0s 21ms/step\n",
      "1/1 [==============================] - 0s 16ms/step\n",
      "1/1 [==============================] - 0s 18ms/step\n",
      "1/1 [==============================] - 0s 18ms/step\n",
      "1/1 [==============================] - 0s 17ms/step\n",
      "1/1 [==============================] - 0s 25ms/step\n",
      "1/1 [==============================] - 0s 18ms/step\n",
      "1/1 [==============================] - 0s 17ms/step\n",
      "1/1 [==============================] - 0s 17ms/step\n",
      "1/1 [==============================] - 0s 18ms/step\n",
      "1/1 [==============================] - 0s 18ms/step\n",
      "1/1 [==============================] - 0s 19ms/step\n",
      "1/1 [==============================] - 0s 18ms/step\n",
      "1/1 [==============================] - 0s 17ms/step\n",
      "1/1 [==============================] - 0s 17ms/step\n"
     ]
    }
   ],
   "source": [
    "# Grab X random item ids\n",
    "test_sequence_length = 3\n",
    "user_sequence = list(np.random.choice(item_ids, test_sequence_length))  # A sample user sequence\n",
    "means, variances = estimate_uncertainty(nextitnet, user_sequence)\n",
    "\n",
    "k = 5\n",
    "top_k_recommendations = np.argsort(means[0])[-k:][::-1]  # Get top 5 recommended items\n",
    "top_k_uncertainties = variances[0][top_k_recommendations]  # Get corresponding uncertainty scores"
   ]
  },
  {
   "cell_type": "code",
   "execution_count": 48,
   "metadata": {},
   "outputs": [
    {
     "name": "stdout",
     "output_type": "stream",
     "text": [
      "Bread and Chocolate (Pane e cioccolata) (1973) Uncertainty Score:  2.1802765e-07\n",
      "Batman & Robin (1997) Uncertainty Score:  2.0597514e-07\n",
      "Murder, My Sweet (1944) Uncertainty Score:  1.619843e-07\n",
      "Love and Other Catastrophes (1996) Uncertainty Score:  2.0653522e-07\n",
      "Amateur (1994) Uncertainty Score:  1.5016994e-07\n"
     ]
    }
   ],
   "source": [
    "top_k_movie_titles = get_movie_titles(top_k_recommendations, movies)\n",
    "for i in range(len(top_k_movie_titles)):\n",
    "    print(top_k_movie_titles[i], 'Uncertainty Score: ', top_k_uncertainties[i])"
   ]
  }
 ],
 "metadata": {
  "kernelspec": {
   "display_name": "Python 3",
   "language": "python",
   "name": "python3"
  },
  "language_info": {
   "codemirror_mode": {
    "name": "ipython",
    "version": 3
   },
   "file_extension": ".py",
   "mimetype": "text/x-python",
   "name": "python",
   "nbconvert_exporter": "python",
   "pygments_lexer": "ipython3",
   "version": "3.9.13"
  },
  "orig_nbformat": 4
 },
 "nbformat": 4,
 "nbformat_minor": 2
}
