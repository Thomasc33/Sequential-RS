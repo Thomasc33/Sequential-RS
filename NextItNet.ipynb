{
 "cells": [
  {
   "attachments": {},
   "cell_type": "markdown",
   "metadata": {},
   "source": [
    "# Module Imports"
   ]
  },
  {
   "cell_type": "code",
   "execution_count": 28,
   "metadata": {},
   "outputs": [],
   "source": [
    "import numpy as np\n",
    "import pandas as pd\n",
    "import matplotlib.pyplot as plt\n",
    "from tqdm import tqdm\n",
    "import random\n",
    "import tensorflow as tf\n",
    "from tensorflow.keras.layers import Input, Embedding, Conv1D, Dropout, Dense, GlobalAveragePooling1D, Lambda\n",
    "import tensorflow.keras.backend as K\n",
    "import tensorflow_probability as tfp\n",
    "tfd = tfp.distributions\n",
    "tfpl = tfp.layers\n",
    "\n",
    "random.seed(42)\n",
    "np.random.seed(42)"
   ]
  },
  {
   "attachments": {},
   "cell_type": "markdown",
   "metadata": {},
   "source": [
    "# Load and Process Data"
   ]
  },
  {
   "cell_type": "code",
   "execution_count": 2,
   "metadata": {},
   "outputs": [],
   "source": [
    "# Load MovieLens dataset\n",
    "data_path = 'ml-100k/u.data'\n",
    "column_names = ['user_id', 'item_id', 'rating', 'timestamp']\n",
    "data = pd.read_csv(data_path, sep='\\t', names=column_names)"
   ]
  },
  {
   "cell_type": "code",
   "execution_count": 3,
   "metadata": {},
   "outputs": [],
   "source": [
    "movies = pd.read_csv('ml-100k/movies.csv', sep=',')"
   ]
  },
  {
   "cell_type": "code",
   "execution_count": 4,
   "metadata": {},
   "outputs": [],
   "source": [
    "# Preprocess the dataset\n",
    "user_ids = data['user_id'].unique()\n",
    "item_ids = data['item_id'].unique()\n",
    "uid2idx = {uid: idx for idx, uid in enumerate(user_ids)}\n",
    "iid2idx = {iid: idx for idx, iid in enumerate(item_ids)}\n",
    "idx2uid = {idx: uid for uid, idx in uid2idx.items()}\n",
    "idx2iid = {idx: iid for iid, idx in iid2idx.items()}\n",
    "data['user_id'] = data['user_id'].map(uid2idx)\n",
    "data['item_id'] = data['item_id'].map(iid2idx)\n",
    "movies['item_id'] = movies['movieId'].map(iid2idx)"
   ]
  },
  {
   "cell_type": "code",
   "execution_count": 5,
   "metadata": {},
   "outputs": [],
   "source": [
    "# Sort data by timestamp\n",
    "train_data = data.sort_values(by='timestamp')"
   ]
  },
  {
   "cell_type": "code",
   "execution_count": 6,
   "metadata": {},
   "outputs": [],
   "source": [
    "def generate_sequences_and_labels(data, user_ids, item_ids, seq_length, num_items):\n",
    "    sequences, labels = [], []\n",
    "\n",
    "    for user_id in user_ids:\n",
    "        user_data = data[data['user_id'] == user_id]\n",
    "        user_items = user_data['item_id'].values.tolist()\n",
    "        \n",
    "        # Create sequences of fixed length for each user\n",
    "        for i in range(len(user_items) - seq_length):\n",
    "            sequences.append(user_items[i:i + seq_length])\n",
    "            \n",
    "            label = np.zeros(num_items)\n",
    "            if user_items[i + seq_length] in user_items[i:i + seq_length]:\n",
    "                label[user_items[i + seq_length]] = 1  # Positive feedback\n",
    "            else:\n",
    "                label[user_items[i + seq_length]] = 0  # Negative feedback\n",
    "            labels.append(label)\n",
    "\n",
    "    sequences = np.array(sequences)\n",
    "    labels = np.array(labels)\n",
    "    return sequences, labels"
   ]
  },
  {
   "cell_type": "code",
   "execution_count": 7,
   "metadata": {},
   "outputs": [],
   "source": [
    "seq_length = 5  # Adjust this value based on your requirements\n",
    "train_sequences, train_labels = generate_sequences_and_labels(train_data, user_ids, item_ids, seq_length, len(item_ids))"
   ]
  },
  {
   "attachments": {},
   "cell_type": "markdown",
   "metadata": {},
   "source": [
    "# Visualize Data"
   ]
  },
  {
   "cell_type": "code",
   "execution_count": 8,
   "metadata": {},
   "outputs": [
    {
     "data": {
      "text/html": [
       "<div>\n",
       "<style scoped>\n",
       "    .dataframe tbody tr th:only-of-type {\n",
       "        vertical-align: middle;\n",
       "    }\n",
       "\n",
       "    .dataframe tbody tr th {\n",
       "        vertical-align: top;\n",
       "    }\n",
       "\n",
       "    .dataframe thead th {\n",
       "        text-align: right;\n",
       "    }\n",
       "</style>\n",
       "<table border=\"1\" class=\"dataframe\">\n",
       "  <thead>\n",
       "    <tr style=\"text-align: right;\">\n",
       "      <th></th>\n",
       "      <th>user_id</th>\n",
       "      <th>item_id</th>\n",
       "      <th>rating</th>\n",
       "      <th>timestamp</th>\n",
       "    </tr>\n",
       "  </thead>\n",
       "  <tbody>\n",
       "    <tr>\n",
       "      <th>0</th>\n",
       "      <td>0</td>\n",
       "      <td>0</td>\n",
       "      <td>3</td>\n",
       "      <td>881250949</td>\n",
       "    </tr>\n",
       "    <tr>\n",
       "      <th>1</th>\n",
       "      <td>1</td>\n",
       "      <td>1</td>\n",
       "      <td>3</td>\n",
       "      <td>891717742</td>\n",
       "    </tr>\n",
       "    <tr>\n",
       "      <th>2</th>\n",
       "      <td>2</td>\n",
       "      <td>2</td>\n",
       "      <td>1</td>\n",
       "      <td>878887116</td>\n",
       "    </tr>\n",
       "    <tr>\n",
       "      <th>3</th>\n",
       "      <td>3</td>\n",
       "      <td>3</td>\n",
       "      <td>2</td>\n",
       "      <td>880606923</td>\n",
       "    </tr>\n",
       "    <tr>\n",
       "      <th>4</th>\n",
       "      <td>4</td>\n",
       "      <td>4</td>\n",
       "      <td>1</td>\n",
       "      <td>886397596</td>\n",
       "    </tr>\n",
       "  </tbody>\n",
       "</table>\n",
       "</div>"
      ],
      "text/plain": [
       "   user_id  item_id  rating  timestamp\n",
       "0        0        0       3  881250949\n",
       "1        1        1       3  891717742\n",
       "2        2        2       1  878887116\n",
       "3        3        3       2  880606923\n",
       "4        4        4       1  886397596"
      ]
     },
     "execution_count": 8,
     "metadata": {},
     "output_type": "execute_result"
    }
   ],
   "source": [
    "data.head()"
   ]
  },
  {
   "cell_type": "code",
   "execution_count": 9,
   "metadata": {},
   "outputs": [
    {
     "name": "stdout",
     "output_type": "stream",
     "text": [
      "Number of users:  943\n",
      "Number of items:  1682\n",
      "Number of interactions:  100000\n",
      "Average rating:  3.52986\n",
      "Start Date:  1997-09-20 03:05:10\n",
      "End Date:  1998-04-22 23:10:38\n"
     ]
    }
   ],
   "source": [
    "print('Number of users: ', len(user_ids))\n",
    "print('Number of items: ', len(item_ids))\n",
    "print('Number of interactions: ', len(data))\n",
    "print('Average rating: ', data['rating'].mean())\n",
    "print('Start Date: ', pd.to_datetime(data['timestamp'].min(), unit='s'))\n",
    "print('End Date: ', pd.to_datetime(data['timestamp'].max(), unit='s'))"
   ]
  },
  {
   "attachments": {},
   "cell_type": "markdown",
   "metadata": {},
   "source": [
    "# NextItNet Model"
   ]
  },
  {
   "cell_type": "code",
   "execution_count": 10,
   "metadata": {},
   "outputs": [],
   "source": [
    "def create_nextitnet_model(num_items, embedding_dim, num_layers, kernel_size, dropout_rate):\n",
    "    input_layer = Input(shape=(None,))\n",
    "    x = Embedding(num_items, embedding_dim)(input_layer)\n",
    "    \n",
    "    for _ in range(num_layers):\n",
    "        x = Conv1D(embedding_dim, kernel_size, padding='causal', activation='relu')(x)\n",
    "        x = Dropout(dropout_rate)(x, training=True)  # Enable dropout during inference for uncertainty estimation\n",
    "\n",
    "    x = GlobalAveragePooling1D()(x)\n",
    "    output_layer = Dense(num_items, activation='sigmoid')(x)\n",
    "    \n",
    "    model = tf.keras.Model(inputs=input_layer, outputs=output_layer)\n",
    "    return model"
   ]
  },
  {
   "cell_type": "code",
   "execution_count": 11,
   "metadata": {},
   "outputs": [],
   "source": [
    "num_items = len(item_ids)\n",
    "embedding_dim = 64\n",
    "num_layers = 3\n",
    "kernel_size = 3\n",
    "dropout_rate = 0.5\n",
    "\n",
    "nextitnet = create_nextitnet_model(num_items, embedding_dim, num_layers, kernel_size, dropout_rate)\n",
    "nextitnet.compile(optimizer='adam', loss='binary_crossentropy')"
   ]
  },
  {
   "cell_type": "code",
   "execution_count": 12,
   "metadata": {},
   "outputs": [
    {
     "name": "stdout",
     "output_type": "stream",
     "text": [
      "Epoch 1/10\n",
      "596/596 [==============================] - 6s 8ms/step - loss: 0.0320 - val_loss: 5.1855e-07\n",
      "Epoch 2/10\n",
      "596/596 [==============================] - 5s 8ms/step - loss: 3.4232e-07 - val_loss: 3.4705e-07\n",
      "Epoch 3/10\n",
      "596/596 [==============================] - 5s 8ms/step - loss: 2.4545e-07 - val_loss: 2.8651e-07\n",
      "Epoch 4/10\n",
      "596/596 [==============================] - 4s 8ms/step - loss: 1.8248e-07 - val_loss: 1.7905e-07\n",
      "Epoch 5/10\n",
      "596/596 [==============================] - 5s 8ms/step - loss: 1.3477e-07 - val_loss: 1.6087e-07\n",
      "Epoch 6/10\n",
      "596/596 [==============================] - 5s 9ms/step - loss: 1.0290e-07 - val_loss: 1.1118e-07\n",
      "Epoch 7/10\n",
      "596/596 [==============================] - 5s 8ms/step - loss: 7.8056e-08 - val_loss: 9.1987e-08\n",
      "Epoch 8/10\n",
      "596/596 [==============================] - 5s 8ms/step - loss: 6.2498e-08 - val_loss: 6.3377e-08\n",
      "Epoch 9/10\n",
      "596/596 [==============================] - 4s 7ms/step - loss: 4.6696e-08 - val_loss: 5.9422e-08\n",
      "Epoch 10/10\n",
      "596/596 [==============================] - 4s 8ms/step - loss: 3.5098e-08 - val_loss: 4.3643e-08\n"
     ]
    }
   ],
   "source": [
    "history = nextitnet.fit(train_sequences, train_labels, epochs=10, batch_size=128, validation_split=0.2)"
   ]
  },
  {
   "attachments": {},
   "cell_type": "markdown",
   "metadata": {},
   "source": [
    "# Uncertainty Score"
   ]
  },
  {
   "cell_type": "code",
   "execution_count": 42,
   "metadata": {},
   "outputs": [],
   "source": [
    "def estimate_uncertainty(model, user_sequence, num_samples=100):\n",
    "    user_sequence = np.expand_dims(user_sequence, axis=0)\n",
    "    predictions = np.stack([model.predict(user_sequence) for _ in range(num_samples)], axis=-1)\n",
    "    means = np.mean(predictions, axis=-1)\n",
    "    variances = np.var(predictions, axis=-1)\n",
    "    return means, variances\n",
    "\n",
    "def get_movie_titles(recommendations, movies_df):\n",
    "    movie_titles = []\n",
    "    for index in recommendations:\n",
    "        movie_title = movies_df.loc[index, 'title']\n",
    "        movie_titles.append(movie_title)\n",
    "    return movie_titles"
   ]
  },
  {
   "cell_type": "code",
   "execution_count": 43,
   "metadata": {},
   "outputs": [
    {
     "name": "stdout",
     "output_type": "stream",
     "text": [
      "1/1 [==============================] - 0s 113ms/step\n",
      "1/1 [==============================] - 0s 18ms/step\n",
      "1/1 [==============================] - 0s 18ms/step\n",
      "1/1 [==============================] - 0s 18ms/step\n",
      "1/1 [==============================] - 0s 17ms/step\n",
      "1/1 [==============================] - 0s 17ms/step\n",
      "1/1 [==============================] - 0s 16ms/step\n",
      "1/1 [==============================] - 0s 19ms/step\n",
      "1/1 [==============================] - 0s 17ms/step\n",
      "1/1 [==============================] - 0s 17ms/step\n",
      "1/1 [==============================] - 0s 17ms/step\n",
      "1/1 [==============================] - 0s 18ms/step\n",
      "1/1 [==============================] - 0s 16ms/step\n",
      "1/1 [==============================] - 0s 16ms/step\n",
      "1/1 [==============================] - 0s 22ms/step\n",
      "1/1 [==============================] - 0s 30ms/step\n",
      "1/1 [==============================] - 0s 16ms/step\n",
      "1/1 [==============================] - 0s 17ms/step\n",
      "1/1 [==============================] - 0s 16ms/step\n",
      "1/1 [==============================] - 0s 17ms/step\n",
      "1/1 [==============================] - 0s 18ms/step\n",
      "1/1 [==============================] - 0s 17ms/step\n",
      "1/1 [==============================] - 0s 16ms/step\n",
      "1/1 [==============================] - 0s 15ms/step\n",
      "1/1 [==============================] - 0s 18ms/step\n",
      "1/1 [==============================] - 0s 18ms/step\n",
      "1/1 [==============================] - 0s 19ms/step\n",
      "1/1 [==============================] - 0s 21ms/step\n",
      "1/1 [==============================] - 0s 18ms/step\n",
      "1/1 [==============================] - 0s 17ms/step\n",
      "1/1 [==============================] - 0s 18ms/step\n",
      "1/1 [==============================] - 0s 17ms/step\n",
      "1/1 [==============================] - 0s 19ms/step\n",
      "1/1 [==============================] - 0s 16ms/step\n",
      "1/1 [==============================] - 0s 16ms/step\n",
      "1/1 [==============================] - 0s 17ms/step\n",
      "1/1 [==============================] - 0s 18ms/step\n",
      "1/1 [==============================] - 0s 17ms/step\n",
      "1/1 [==============================] - 0s 19ms/step\n",
      "1/1 [==============================] - 0s 24ms/step\n",
      "1/1 [==============================] - 0s 16ms/step\n",
      "1/1 [==============================] - 0s 16ms/step\n",
      "1/1 [==============================] - 0s 16ms/step\n",
      "1/1 [==============================] - 0s 19ms/step\n",
      "1/1 [==============================] - 0s 18ms/step\n",
      "1/1 [==============================] - 0s 18ms/step\n",
      "1/1 [==============================] - 0s 16ms/step\n",
      "1/1 [==============================] - 0s 17ms/step\n",
      "1/1 [==============================] - 0s 20ms/step\n",
      "1/1 [==============================] - 0s 20ms/step\n",
      "1/1 [==============================] - 0s 17ms/step\n",
      "1/1 [==============================] - 0s 18ms/step\n",
      "1/1 [==============================] - 0s 20ms/step\n",
      "1/1 [==============================] - 0s 16ms/step\n",
      "1/1 [==============================] - 0s 15ms/step\n",
      "1/1 [==============================] - 0s 17ms/step\n",
      "1/1 [==============================] - 0s 16ms/step\n",
      "1/1 [==============================] - 0s 17ms/step\n",
      "1/1 [==============================] - 0s 17ms/step\n",
      "1/1 [==============================] - 0s 18ms/step\n",
      "1/1 [==============================] - 0s 18ms/step\n",
      "1/1 [==============================] - 0s 26ms/step\n",
      "1/1 [==============================] - 0s 16ms/step\n",
      "1/1 [==============================] - 0s 19ms/step\n",
      "1/1 [==============================] - 0s 17ms/step\n",
      "1/1 [==============================] - 0s 18ms/step\n",
      "1/1 [==============================] - 0s 22ms/step\n",
      "1/1 [==============================] - 0s 16ms/step\n",
      "1/1 [==============================] - 0s 17ms/step\n",
      "1/1 [==============================] - 0s 16ms/step\n",
      "1/1 [==============================] - 0s 25ms/step\n",
      "1/1 [==============================] - 0s 21ms/step\n",
      "1/1 [==============================] - 0s 17ms/step\n",
      "1/1 [==============================] - 0s 19ms/step\n",
      "1/1 [==============================] - 0s 21ms/step\n",
      "1/1 [==============================] - 0s 17ms/step\n",
      "1/1 [==============================] - 0s 16ms/step\n",
      "1/1 [==============================] - 0s 17ms/step\n",
      "1/1 [==============================] - 0s 16ms/step\n",
      "1/1 [==============================] - 0s 18ms/step\n",
      "1/1 [==============================] - 0s 16ms/step\n",
      "1/1 [==============================] - 0s 18ms/step\n",
      "1/1 [==============================] - 0s 16ms/step\n",
      "1/1 [==============================] - 0s 17ms/step\n",
      "1/1 [==============================] - 0s 16ms/step\n",
      "1/1 [==============================] - 0s 23ms/step\n",
      "1/1 [==============================] - 0s 22ms/step\n",
      "1/1 [==============================] - 0s 24ms/step\n",
      "1/1 [==============================] - 0s 17ms/step\n",
      "1/1 [==============================] - 0s 17ms/step\n",
      "1/1 [==============================] - 0s 20ms/step\n",
      "1/1 [==============================] - 0s 19ms/step\n",
      "1/1 [==============================] - 0s 20ms/step\n",
      "1/1 [==============================] - 0s 16ms/step\n",
      "1/1 [==============================] - 0s 15ms/step\n",
      "1/1 [==============================] - 0s 16ms/step\n",
      "1/1 [==============================] - 0s 19ms/step\n",
      "1/1 [==============================] - 0s 21ms/step\n",
      "1/1 [==============================] - 0s 18ms/step\n",
      "1/1 [==============================] - 0s 16ms/step\n"
     ]
    }
   ],
   "source": [
    "# Grab X random item ids\n",
    "test_sequence_length = 3\n",
    "user_sequence = list(np.random.choice(item_ids, test_sequence_length))  # A sample user sequence\n",
    "means, variances = estimate_uncertainty(nextitnet, user_sequence)\n",
    "\n",
    "k = 5\n",
    "top_k_recommendations = np.argsort(means[0])[-k:][::-1]  # Get top 5 recommended items\n",
    "top_k_uncertainties = variances[0][top_k_recommendations]  # Get corresponding uncertainty scores"
   ]
  },
  {
   "cell_type": "code",
   "execution_count": 44,
   "metadata": {},
   "outputs": [
    {
     "name": "stdout",
     "output_type": "stream",
     "text": [
      "Love and Other Catastrophes (1996) Uncertainty Score:  1.502689e-06\n",
      "Bread and Chocolate (Pane e cioccolata) (1973) Uncertainty Score:  8.9743696e-07\n",
      "Newton Boys, The (1998) Uncertainty Score:  6.807371e-07\n",
      "Murder, My Sweet (1944) Uncertainty Score:  7.035755e-07\n",
      "BASEketball (1998) Uncertainty Score:  7.783811e-07\n"
     ]
    }
   ],
   "source": [
    "top_k_movie_titles = get_movie_titles(top_k_recommendations, movies)\n",
    "for i in range(len(top_k_movie_titles)):\n",
    "    print(top_k_movie_titles[i], 'Uncertainty Score: ', top_k_uncertainties[i]) # this doesnt work"
   ]
  },
  {
   "attachments": {},
   "cell_type": "markdown",
   "metadata": {},
   "source": [
    "# NLL Loss"
   ]
  },
  {
   "cell_type": "code",
   "execution_count": 29,
   "metadata": {},
   "outputs": [],
   "source": [
    "def nll_loss(y_true, y_pred):\n",
    "    dist = tfp.distributions.Categorical(logits=y_pred)\n",
    "    return -K.mean(dist.log_prob(tf.argmax(y_true, axis=-1)))"
   ]
  },
  {
   "attachments": {},
   "cell_type": "markdown",
   "metadata": {},
   "source": [
    "# Hit Rate"
   ]
  },
  {
   "cell_type": "code",
   "execution_count": 36,
   "metadata": {},
   "outputs": [],
   "source": [
    "def hit_rate_metric(k):\n",
    "    def hit_rate(y_true, y_pred):\n",
    "        top_k_items = tf.nn.top_k(y_pred, k=k).indices\n",
    "        \n",
    "        # Convert top_k_items to int64 to match the type of y_true\n",
    "        top_k_items = tf.cast(top_k_items, tf.int64)\n",
    "\n",
    "        # Get the relevant items (the ones with a 1 in the true labels)\n",
    "        relevant_items = tf.where(y_true == 1)\n",
    "        relevant_item_indices = relevant_items[:, 1]\n",
    "\n",
    "        # Broadcast relevant_item_indices to match the shape of top_k_items\n",
    "        relevant_item_indices = tf.broadcast_to(tf.expand_dims(relevant_item_indices, -1), tf.shape(top_k_items))\n",
    "\n",
    "        # Count the number of hits\n",
    "        hits = K.cast(K.equal(relevant_item_indices, top_k_items), 'float32')\n",
    "\n",
    "        # Compute the hit rate\n",
    "        return K.mean(hits)\n",
    "\n",
    "    hit_rate.__name__ = f'hit_rate@{k}'\n",
    "    return hit_rate"
   ]
  },
  {
   "attachments": {},
   "cell_type": "markdown",
   "metadata": {},
   "source": [
    "# Modified NextItNet Model"
   ]
  },
  {
   "cell_type": "code",
   "execution_count": 72,
   "metadata": {},
   "outputs": [
    {
     "data": {
      "text/plain": [
       "(array([[608, 652, 157,  72, 261],\n",
       "        [652, 157,  72, 261, 104],\n",
       "        [157,  72, 261, 104, 719],\n",
       "        ...,\n",
       "        [652, 420, 157, 608, 117],\n",
       "        [420, 157, 608, 117, 184],\n",
       "        [157, 608, 117, 184, 585]]),\n",
       " array([[0., 0., 0., ..., 0., 0., 0.],\n",
       "        [0., 0., 0., ..., 0., 0., 0.],\n",
       "        [0., 0., 0., ..., 0., 0., 0.],\n",
       "        ...,\n",
       "        [0., 0., 0., ..., 0., 0., 0.],\n",
       "        [0., 0., 0., ..., 0., 0., 0.],\n",
       "        [0., 0., 0., ..., 0., 0., 0.]]))"
      ]
     },
     "execution_count": 72,
     "metadata": {},
     "output_type": "execute_result"
    }
   ],
   "source": [
    "train_sequences, train_labels"
   ]
  },
  {
   "cell_type": "code",
   "execution_count": 25,
   "metadata": {},
   "outputs": [],
   "source": [
    "def create_mod_nextitnet_model(num_items, embedding_dim, num_layers, kernel_size, dropout_rate, num_samples=100):\n",
    "    input_layer = Input(shape=(None,))\n",
    "    x = Embedding(num_items, embedding_dim)(input_layer)\n",
    "\n",
    "    for _ in range(num_layers):\n",
    "        x = Conv1D(embedding_dim, kernel_size, padding='causal', activation='relu')(x)\n",
    "        x = Dropout(dropout_rate)(x, training=True)  # Enable dropout during inference for uncertainty estimation\n",
    "\n",
    "    x = GlobalAveragePooling1D()(x)\n",
    "    x = Dense(num_items * 2)(x)\n",
    "    x = tfp.layers.IndependentNormal(num_items)(x)\n",
    "\n",
    "    def sample_and_softmax(distribution):\n",
    "        samples = distribution.sample(num_samples)  # shape: (num_samples, batch_size, num_items)\n",
    "        samples = tf.transpose(samples, perm=[1, 0, 2])  # shape: (batch_size, num_samples, num_items)\n",
    "        softmax_samples = tf.nn.softmax(samples, axis=-1)  # Apply softmax\n",
    "        return tf.reduce_mean(softmax_samples, axis=1)  # Average the softmax values across samples\n",
    "    \n",
    "    output_layer = Lambda(sample_and_softmax)(x)\n",
    "\n",
    "    model = tf.keras.Model(inputs=input_layer, outputs=output_layer)\n",
    "    return model"
   ]
  },
  {
   "cell_type": "code",
   "execution_count": 39,
   "metadata": {},
   "outputs": [],
   "source": [
    "nextitnetmod = create_mod_nextitnet_model(num_items, embedding_dim, num_layers, kernel_size, dropout_rate, num_samples=100)\n",
    "nextitnetmod.compile(optimizer='adam', loss=nll_loss,) #metrics=[hit_rate_metric(5), hit_rate_metric(10), hit_rate_metric(20)])"
   ]
  },
  {
   "cell_type": "code",
   "execution_count": 40,
   "metadata": {},
   "outputs": [
    {
     "name": "stdout",
     "output_type": "stream",
     "text": [
      "Epoch 1/10\n",
      "596/596 [==============================] - 158s 263ms/step - loss: 6.5408 - val_loss: 6.4288\n",
      "Epoch 2/10\n",
      "596/596 [==============================] - 157s 264ms/step - loss: 6.4287 - val_loss: 6.4288\n",
      "Epoch 3/10\n",
      "596/596 [==============================] - 158s 264ms/step - loss: 6.4287 - val_loss: 6.4288\n",
      "Epoch 4/10\n",
      "596/596 [==============================] - 155s 260ms/step - loss: 6.4287 - val_loss: 6.4288\n",
      "Epoch 5/10\n",
      "596/596 [==============================] - 152s 255ms/step - loss: 6.4287 - val_loss: 6.4288\n",
      "Epoch 6/10\n",
      "596/596 [==============================] - 156s 261ms/step - loss: 6.4287 - val_loss: 6.4288\n",
      "Epoch 7/10\n",
      "596/596 [==============================] - 156s 262ms/step - loss: 6.4287 - val_loss: 6.4288\n",
      "Epoch 8/10\n",
      "596/596 [==============================] - 154s 258ms/step - loss: 6.4287 - val_loss: 6.4288\n",
      "Epoch 9/10\n",
      "596/596 [==============================] - 154s 258ms/step - loss: 6.4287 - val_loss: 6.4288\n",
      "Epoch 10/10\n",
      "596/596 [==============================] - 155s 259ms/step - loss: 6.4287 - val_loss: 6.4288\n"
     ]
    }
   ],
   "source": [
    "history2 = nextitnetmod.fit(train_sequences, train_labels, epochs=10, batch_size=128, validation_split=0.2)"
   ]
  },
  {
   "cell_type": "code",
   "execution_count": 65,
   "metadata": {},
   "outputs": [
    {
     "name": "stdout",
     "output_type": "stream",
     "text": [
      "[1415, 1016, 1562]\n",
      "1/1 [==============================] - 0s 17ms/step\n"
     ]
    }
   ],
   "source": [
    "user_sequence = list(np.random.choice(item_ids, test_sequence_length))\n",
    "print(user_sequence)\n",
    "yhat = nextitnetmod.predict(np.expand_dims(user_sequence, axis=0))"
   ]
  },
  {
   "cell_type": "code",
   "execution_count": 66,
   "metadata": {},
   "outputs": [
    {
     "data": {
      "text/plain": [
       "array([[1.0000000e+00, 8.1224203e-12, 4.1030261e-12, ..., 1.9453430e-12,\n",
       "        1.6006552e-12, 2.1300719e-12]], dtype=float32)"
      ]
     },
     "execution_count": 66,
     "metadata": {},
     "output_type": "execute_result"
    }
   ],
   "source": [
    "yhat"
   ]
  },
  {
   "cell_type": "code",
   "execution_count": 67,
   "metadata": {},
   "outputs": [
    {
     "name": "stdout",
     "output_type": "stream",
     "text": [
      "Toy Story (1995) Uncertainty Score:  1.0\n",
      "Kramer vs. Kramer (1979) Uncertainty Score:  2.6732146e-11\n",
      "Great Expectations (1998) Uncertainty Score:  2.5019714e-11\n",
      "Game, The (1997) Uncertainty Score:  2.4002338e-11\n",
      "What Happened Was... (1994) Uncertainty Score:  2.3460229e-11\n"
     ]
    }
   ],
   "source": [
    "top_k_rec = np.argsort(yhat[0])[-k:][::-1] \n",
    "top_k_movie_titles = get_movie_titles(top_k_rec, movies)\n",
    "for i in range(len(top_k_movie_titles)):\n",
    "    print(top_k_movie_titles[i], 'Uncertainty Score: ', yhat[0][top_k_rec[i]])"
   ]
  }
 ],
 "metadata": {
  "kernelspec": {
   "display_name": "Python 3",
   "language": "python",
   "name": "python3"
  },
  "language_info": {
   "codemirror_mode": {
    "name": "ipython",
    "version": 3
   },
   "file_extension": ".py",
   "mimetype": "text/x-python",
   "name": "python",
   "nbconvert_exporter": "python",
   "pygments_lexer": "ipython3",
   "version": "3.9.13"
  },
  "orig_nbformat": 4
 },
 "nbformat": 4,
 "nbformat_minor": 2
}
